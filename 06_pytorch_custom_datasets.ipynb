{
 "cells": [
  {
   "cell_type": "code",
   "execution_count": 1,
   "metadata": {},
   "outputs": [
    {
     "data": {
      "text/plain": [
       "'2.5.1'"
      ]
     },
     "execution_count": 1,
     "metadata": {},
     "output_type": "execute_result"
    }
   ],
   "source": [
    "import torch\n",
    "from torch import nn\n",
    "\n",
    "torch.__version__b"
   ]
  },
  {
   "cell_type": "code",
   "execution_count": 2,
   "metadata": {},
   "outputs": [
    {
     "data": {
      "text/plain": [
       "'cuda'"
      ]
     },
     "execution_count": 2,
     "metadata": {},
     "output_type": "execute_result"
    }
   ],
   "source": [
    "device = \"cuda\" if torch.cuda.is_available() else 'cpu'\"05 computer_vision_video.ipynb\"\n",
    "device"
   ]
  },
  {
   "cell_type": "markdown",
   "metadata": {},
   "source": [
    "## 1. Get Data"
   ]
  },
  {
   "cell_type": "code",
   "execution_count": 4,
   "metadata": {},
   "outputs": [],
   "source": [
    "# this dataset is a subset of food101 dataset(from pytorch) only 10% of the images\n",
    "# images: 1k\n",
    "import requests\n",
    "import zipfile\n",
    "from pathlib import Path"
   ]
  },
  {
   "cell_type": "code",
   "execution_count": 11,
   "metadata": {},
   "outputs": [
    {
     "name": "stdout",
     "output_type": "stream",
     "text": [
      "data\\pizza_steak_sushi directory already exist... skip download\n",
      "Downloading pizza, sushi, steak data...\n",
      "Unzipping data...\n"
     ]
    }
   ],
   "source": [
    "# setup path to a data folder\n",
    "data_path = Path('data')\n",
    "image_path = data_path / \"pizza_steak_sushi\"\n",
    "\n",
    "# exist_ok\n",
    "if image_path.is_dir():\n",
    "    print(f\"{image_path} directory already exist... skip download\")\n",
    "else:\n",
    "    print(f\"{image_path} directory is being created...\")\n",
    "    image_path.mkdir(parents=True, exist_ok=True)\n",
    "    \n",
    "# download pizza, steak, sushi\n",
    "with open(data_path/\"pizza_sushi_steak.zip\", 'wb') as f:\n",
    "    request = requests.get(\"https://github.com/mrdbourke/pytorch-deep-learning/raw/main/data/pizza_steak_sushi.zip\")\n",
    "    print(f\"Downloading pizza, sushi, steak data...\")\n",
    "    f.write(request.content)\n",
    "\n",
    "#Unzip data\n",
    "with zipfile.ZipFile(data_path/\"pizza_sushi_steak.zip\", 'r') as zip_rep:\n",
    "    print('Unzipping data...')\n",
    "    zip_rep.extractall(image_path)"
   ]
  },
  {
   "cell_type": "code",
   "execution_count": 8,
   "metadata": {},
   "outputs": [
    {
     "data": {
      "text/plain": [
       "WindowsPath('data/pizza_steak_sushi')"
      ]
     },
     "execution_count": 8,
     "metadata": {},
     "output_type": "execute_result"
    }
   ],
   "source": [
    "# data_path/\"pizza_sushi_steak.zip\"\n",
    "image_path"
   ]
  }
 ],
 "metadata": {
  "kernelspec": {
   "display_name": "ML_3.10",
   "language": "python",
   "name": "python3"
  },
  "language_info": {
   "codemirror_mode": {
    "name": "ipython",
    "version": 3
   },
   "file_extension": ".py",
   "mimetype": "text/x-python",
   "name": "python",
   "nbconvert_exporter": "python",
   "pygments_lexer": "ipython3",
   "version": "3.10.16"
  }
 },
 "nbformat": 4,
 "nbformat_minor": 2
}
