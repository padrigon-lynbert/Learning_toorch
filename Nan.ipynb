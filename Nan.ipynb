{
 "cells": [
  {
   "cell_type": "code",
   "execution_count": 2,
   "metadata": {},
   "outputs": [],
   "source": [
    "import torch\n",
    "\n",
    "device = torch.device('cuda' if torch.cuda.is_available() else 'cpu')"
   ]
  },
  {
   "cell_type": "code",
   "execution_count": null,
   "metadata": {},
   "outputs": [
    {
     "data": {
      "text/plain": [
       "tensor([[0.3605, 0.5885, 0.9541, 0.0692, 0.7546, 0.0808, 0.8716],\n",
       "        [0.5065, 0.1846, 0.7872, 0.1495, 0.5043, 0.0063, 0.2567],\n",
       "        [0.5375, 0.9537, 0.8431, 0.2929, 0.2252, 0.7406, 0.0278],\n",
       "        [0.1771, 0.5519, 0.1691, 0.6932, 0.2013, 0.4202, 0.9718],\n",
       "        [0.5155, 0.2951, 0.6255, 0.9462, 0.3669, 0.9378, 0.4724],\n",
       "        [0.3016, 0.5433, 0.2964, 0.1502, 0.1058, 0.5440, 0.4683],\n",
       "        [0.0381, 0.5858, 0.4286, 0.1151, 0.1487, 0.9725, 0.9812]])"
      ]
     },
     "execution_count": 8,
     "metadata": {},
     "output_type": "execute_result"
    }
   ],
   "source": [
    "torch.rand(7,7)"
   ]
  }
 ],
 "metadata": {
  "kernelspec": {
   "display_name": "data_science",
   "language": "python",
   "name": "python3"
  },
  "language_info": {
   "codemirror_mode": {
    "name": "ipython",
    "version": 3
   },
   "file_extension": ".py",
   "mimetype": "text/x-python",
   "name": "python",
   "nbconvert_exporter": "python",
   "pygments_lexer": "ipython3",
   "version": "3.12.5"
  }
 },
 "nbformat": 4,
 "nbformat_minor": 2
}
