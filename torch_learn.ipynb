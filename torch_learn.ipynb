{
 "cells": [
  {
   "cell_type": "markdown",
   "metadata": {},
   "source": [
    "# Introduction to Tensors"
   ]
  },
  {
   "cell_type": "code",
   "execution_count": 45,
   "metadata": {},
   "outputs": [],
   "source": [
    "import torch\n",
    "import pandas as pd\n",
    "import numpy as np\n",
    "import matplotlib.pyplot as plt\n",
    "\n",
    "device = torch.device(\"cuda\" if torch.cuda.is_available() else \"cpu\")"
   ]
  },
  {
   "cell_type": "code",
   "execution_count": 2,
   "metadata": {},
   "outputs": [
    {
     "data": {
      "text/plain": [
       "torch.Size([1, 3, 3])"
      ]
     },
     "execution_count": 2,
     "metadata": {},
     "output_type": "execute_result"
    }
   ],
   "source": [
    "# scalar\n",
    "scalar = torch.tensor(7)\n",
    "scalar.item() # tensor(7)\n",
    "\n",
    "# vector\n",
    "vector = torch.tensor([7,7]) # tensor([7, 7])\n",
    "vector.ndim # 1\n",
    "vector.shape # torch.Size([2])\n",
    "\n",
    "# MATRIX\n",
    "MATRIX = torch.tensor([[7,8],[9,10]]) # tensor([[ 7,  8], [ 9, 10]])\n",
    "MATRIX.ndim # 2\n",
    "MATRIX[0]\n",
    "MATRIX.shape # torch.Size([2, 2])\n",
    "\n",
    "# TENSOR\n",
    "TENSOR = torch.tensor([[ [1,2,3],\n",
    "                         [3,6,9],\n",
    "                         [2,4,5] ]])\n",
    "\n",
    "TENSOR.shape # torch.Size([1, 3, 3])"
   ]
  },
  {
   "cell_type": "markdown",
   "metadata": {},
   "source": [
    "### Random Tensors"
   ]
  },
  {
   "cell_type": "code",
   "execution_count": 3,
   "metadata": {},
   "outputs": [
    {
     "data": {
      "text/plain": [
       "(torch.Size([3, 224, 224]), 3)"
      ]
     },
     "execution_count": 3,
     "metadata": {},
     "output_type": "execute_result"
    }
   ],
   "source": [
    "# Random tensors\n",
    "random_tensor = torch.rand(3,4)\n",
    "random_tensor\n",
    "\n",
    "# random tensor similar to img tensor\n",
    "\n",
    "random_img_size_tensor = torch.rand(size=(3, 224,224)) #  color_channel (r,g,b), hei, wid\n",
    "random_img_size_tensor.shape, random_img_size_tensor.ndim # (torch.Size([224, 224, 3]), 3)"
   ]
  },
  {
   "cell_type": "markdown",
   "metadata": {},
   "source": [
    "### 0's and 1's"
   ]
  },
  {
   "cell_type": "code",
   "execution_count": 4,
   "metadata": {},
   "outputs": [
    {
     "data": {
      "text/plain": [
       "torch.float32"
      ]
     },
     "execution_count": 4,
     "metadata": {},
     "output_type": "execute_result"
    }
   ],
   "source": [
    "zero = torch.zeros(2,2)\n",
    "zero\n",
    "\n",
    "ones = torch.ones(2,2)\n",
    "ones.dtype # [default] torch.float32"
   ]
  },
  {
   "cell_type": "markdown",
   "metadata": {},
   "source": [
    "### Range of tensors and tensor-like\n",
    "    > use 'torch.arange' ('range': deprecated)"
   ]
  },
  {
   "cell_type": "code",
   "execution_count": 5,
   "metadata": {},
   "outputs": [
    {
     "data": {
      "text/plain": [
       "tensor([0, 0, 0, 0, 0, 0])"
      ]
     },
     "execution_count": 5,
     "metadata": {},
     "output_type": "execute_result"
    }
   ],
   "source": [
    "# tensor\n",
    "zero_to_ten = torch.arange(0, 11, 2)\n",
    "zero_to_ten # tensor([ 0,  2,  4,  6,  8, 10])\n",
    "zero_to_ten.shape # torch.Size([6])\n",
    "\n",
    "# tensor-like\n",
    "six_zeros = torch.zeros_like(input=zero_to_ten) # will have same shape\n",
    "six_zeros"
   ]
  },
  {
   "cell_type": "markdown",
   "metadata": {},
   "source": [
    "## Tensor dtypes"
   ]
  },
  {
   "cell_type": "code",
   "execution_count": 11,
   "metadata": {},
   "outputs": [
    {
     "data": {
      "text/plain": [
       "torch.float32"
      ]
     },
     "execution_count": 11,
     "metadata": {},
     "output_type": "execute_result"
    }
   ],
   "source": [
    "float_32_tensor = torch.tensor([3.0, 6.0, 9.0], dtype=None, device=\"cuda\", requires_grad=False)\n",
    "float_32_tensor.dtype # torch.float32\n",
    "\n",
    "# x32 - default (whole), x64 - more precision, x16 more speed, less precision, light\n",
    "\n",
    "float_16_tensor = float_32_tensor.type(torch.float16)\n",
    "float_16_tensor.dtype # torch.float16\n",
    "\n",
    "(float_16_tensor * float_32_tensor).dtype"
   ]
  },
  {
   "cell_type": "code",
   "execution_count": 18,
   "metadata": {},
   "outputs": [
    {
     "data": {
      "text/plain": [
       "tensor([ 9, 16, 81])"
      ]
     },
     "execution_count": 18,
     "metadata": {},
     "output_type": "execute_result"
    }
   ],
   "source": [
    "int_32_tensor = torch.tensor([3,4,9], dtype= torch.long)\n",
    "int_32_tensor * int_32_tensor"
   ]
  },
  {
   "cell_type": "markdown",
   "metadata": {},
   "source": [
    "### Getting information from tensors\n",
    "\n",
    "Tensors ... <br>\n",
    "    not right datatype - tensor.dtype <br>\n",
    "    not right shape - tensor.shape <br>\n",
    "    not right device - tensor.device <br>\n"
   ]
  },
  {
   "cell_type": "code",
   "execution_count": 26,
   "metadata": {},
   "outputs": [
    {
     "name": "stdout",
     "output_type": "stream",
     "text": [
      "torch.float32 torch.Size([3, 6]) cuda:0\n"
     ]
    }
   ],
   "source": [
    "tensor = torch.rand(3,6).to('cuda')\n",
    "print(tensor.dtype, tensor.shape, tensor.device)"
   ]
  },
  {
   "cell_type": "markdown",
   "metadata": {},
   "source": [
    "### Manipulating tensors (operations)\n",
    "\n",
    "+ add, - sub, / div, * mul, @ matmul"
   ]
  },
  {
   "cell_type": "code",
   "execution_count": 60,
   "metadata": {},
   "outputs": [
    {
     "data": {
      "text/plain": [
       "14"
      ]
     },
     "execution_count": 60,
     "metadata": {},
     "output_type": "execute_result"
    }
   ],
   "source": [
    "tensor = torch.tensor([1,2,3])\n",
    "tensor + 10\n",
    "torch.add(tensor, 10)\n",
    "torch.matmul(tensor, tensor)\n",
    "1*1 + 2*2 + 3*3"
   ]
  },
  {
   "cell_type": "code",
   "execution_count": 62,
   "metadata": {},
   "outputs": [
    {
     "data": {
      "text/plain": [
       "tensor(14)"
      ]
     },
     "execution_count": 62,
     "metadata": {},
     "output_type": "execute_result"
    }
   ],
   "source": [
    "# loop, %% time\n",
    "\n",
    "value = sum([(tensor[i] * tensor[i]) for i in range(len(tensor))])\n",
    "value\n",
    "\n",
    "tensor.matmul(tensor)\n",
    "tensor @ tensor"
   ]
  },
  {
   "cell_type": "code",
   "execution_count": 51,
   "metadata": {},
   "outputs": [
    {
     "data": {
      "text/plain": [
       "tensor([[ 27.,  30.,  33.],\n",
       "        [ 61.,  68.,  75.],\n",
       "        [ 95., 106., 117.]], device='cuda:0')"
      ]
     },
     "execution_count": 51,
     "metadata": {},
     "output_type": "execute_result"
    }
   ],
   "source": [
    "\n",
    "tensor_a = torch.tensor([[1, 2], [3, 4], [5, 6]], dtype=torch.float).to(device)\n",
    "tensor_b = torch.tensor([[7, 10], [8, 11], [9, 12]], dtype=torch.float).to(device)\n",
    "\n",
    "torch.matmul(tensor_a, tensor_b.T)"
   ]
  },
  {
   "cell_type": "markdown",
   "metadata": {},
   "source": [
    "Tensor Aggregation"
   ]
  },
  {
   "cell_type": "code",
   "execution_count": 80,
   "metadata": {},
   "outputs": [
    {
     "data": {
      "text/plain": [
       "tensor(0, device='cuda:0')"
      ]
     },
     "execution_count": 80,
     "metadata": {},
     "output_type": "execute_result"
    }
   ],
   "source": [
    "x = torch.arange(0,100,10).type(torch.float32).to(device)\n",
    "\n",
    "x.mean(), torch.mean(x)\n",
    "x.min()\n",
    "x.max()\n",
    "x.sum()\n",
    "x.argmax() # position of max\n",
    "x[9]\n",
    "x.argmin()"
   ]
  },
  {
   "cell_type": "markdown",
   "metadata": {},
   "source": [
    "Reshape, view, stack"
   ]
  },
  {
   "cell_type": "code",
   "execution_count": 114,
   "metadata": {},
   "outputs": [
    {
     "data": {
      "text/plain": [
       "tensor([[1., 2., 3., 4., 5., 6., 7., 8., 9.],\n",
       "        [1., 2., 3., 4., 5., 6., 7., 8., 9.]], device='cuda:0')"
      ]
     },
     "execution_count": 114,
     "metadata": {},
     "output_type": "execute_result"
    }
   ],
   "source": [
    "x2 = torch.arange(1.,10.).to(device)\n",
    "x2.reshape(1,9)\n",
    "\n",
    "# view shares same memory, change view --original will change\n",
    "x2_view = x2.view(1,9)\n",
    "\n",
    "x2_stacked = torch.stack([x2,x2], dim=0)\n",
    "x2_stacked"
   ]
  },
  {
   "cell_type": "code",
   "execution_count": null,
   "metadata": {},
   "outputs": [
    {
     "data": {
      "text/plain": [
       "torch.Size([1, 9])"
      ]
     },
     "execution_count": 142,
     "metadata": {},
     "output_type": "execute_result"
    }
   ],
   "source": [
    "x = torch.zeros(2, 1, 2, 1, 2).to(device)\n",
    "\n",
    "# squeeze - remove single dimension, unsqueeze add single dimension <(this, not this)>\n",
    "x2.squeeze().unsqueeze(dim=0).shape"
   ]
  },
  {
   "cell_type": "code",
   "execution_count": 209,
   "metadata": {},
   "outputs": [
    {
     "data": {
      "text/plain": [
       "(torch.Size([224, 3, 224]), torch.Size([224, 224, 3]))"
      ]
     },
     "execution_count": 209,
     "metadata": {},
     "output_type": "execute_result"
    }
   ],
   "source": [
    "# permute - rearrange tensors order\n",
    "\n",
    "x3 = torch.rand(size=(224,224,3))\n",
    "x3_permuted = x3.permute(0,2,1)\n",
    "x3_permuted.shape, x3.shape"
   ]
  },
  {
   "cell_type": "code",
   "execution_count": 212,
   "metadata": {},
   "outputs": [
    {
     "data": {
      "text/plain": [
       "tensor([3, 6, 9])"
      ]
     },
     "execution_count": 212,
     "metadata": {},
     "output_type": "execute_result"
    }
   ],
   "source": [
    "x = torch.arange(1,10).reshape(1,3,3)\n",
    "x[0,2,2], x[0][2][2]\n",
    "\n",
    "x[:,1,0]\n",
    "x[0,0,:]\n",
    "x[0,:,2]\n",
    "# x"
   ]
  },
  {
   "cell_type": "markdown",
   "metadata": {},
   "source": [
    "Reproducibility (random out of random)"
   ]
  },
  {
   "cell_type": "code",
   "execution_count": 252,
   "metadata": {},
   "outputs": [
    {
     "data": {
      "text/plain": [
       "tensor([[True, True, True, True],\n",
       "        [True, True, True, True],\n",
       "        [True, True, True, True]], device='cuda:0')"
      ]
     },
     "execution_count": 252,
     "metadata": {},
     "output_type": "execute_result"
    }
   ],
   "source": [
    "x = torch.rand(3,4)\n",
    "y = torch.rand(3,4)\n",
    "\n",
    "random_seed = 42\n",
    "torch.manual_seed(random_seed); z = torch.rand(3,4).to(device)\n",
    "torch.manual_seed(random_seed); z1 = torch.rand(3,4).to(device)\n",
    "\n",
    "z == z1"
   ]
  },
  {
   "cell_type": "markdown",
   "metadata": {},
   "source": [
    "3:57"
   ]
  }
 ],
 "metadata": {
  "kernelspec": {
   "display_name": "data_science",
   "language": "python",
   "name": "python3"
  },
  "language_info": {
   "codemirror_mode": {
    "name": "ipython",
    "version": 3
   },
   "file_extension": ".py",
   "mimetype": "text/x-python",
   "name": "python",
   "nbconvert_exporter": "python",
   "pygments_lexer": "ipython3",
   "version": "3.12.5"
  }
 },
 "nbformat": 4,
 "nbformat_minor": 2
}
