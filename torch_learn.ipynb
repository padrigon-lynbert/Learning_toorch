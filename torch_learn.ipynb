{
 "cells": [
  {
   "cell_type": "markdown",
   "metadata": {},
   "source": [
    "# Introduction to Tensors"
   ]
  },
  {
   "cell_type": "code",
   "execution_count": 119,
   "metadata": {},
   "outputs": [],
   "source": [
    "import torch\n",
    "import pandas as pd\n",
    "import numpy as np\n",
    "import matplotlib.pyplot as plt"
   ]
  },
  {
   "cell_type": "code",
   "execution_count": 120,
   "metadata": {},
   "outputs": [
    {
     "data": {
      "text/plain": [
       "torch.Size([1, 3, 3])"
      ]
     },
     "execution_count": 120,
     "metadata": {},
     "output_type": "execute_result"
    }
   ],
   "source": [
    "# scalar\n",
    "scalar = torch.tensor(7)\n",
    "scalar.item() # tensor(7)\n",
    "\n",
    "# vector\n",
    "vector = torch.tensor([7,7]) # tensor([7, 7])\n",
    "vector.ndim # 1\n",
    "vector.shape # torch.Size([2])\n",
    "\n",
    "# MATRIX\n",
    "MATRIX = torch.tensor([[7,8],[9,10]]) # tensor([[ 7,  8], [ 9, 10]])\n",
    "MATRIX.ndim # 2\n",
    "MATRIX[0]\n",
    "MATRIX.shape # torch.Size([2, 2])\n",
    "\n",
    "# TENSOR\n",
    "TENSOR = torch.tensor([[ [1,2,3],\n",
    "                         [3,6,9],\n",
    "                         [2,4,5] ]])\n",
    "\n",
    "TENSOR.shape # torch.Size([1, 3, 3])"
   ]
  },
  {
   "cell_type": "markdown",
   "metadata": {},
   "source": [
    "### Random Tensors"
   ]
  },
  {
   "cell_type": "code",
   "execution_count": 121,
   "metadata": {},
   "outputs": [
    {
     "data": {
      "text/plain": [
       "(torch.Size([3, 224, 224]), 3)"
      ]
     },
     "execution_count": 121,
     "metadata": {},
     "output_type": "execute_result"
    }
   ],
   "source": [
    "# Random tensors\n",
    "random_tensor = torch.rand(3,4)\n",
    "random_tensor\n",
    "\n",
    "# random tensor similar to img tensor\n",
    "\n",
    "random_img_size_tensor = torch.rand(size=(3, 224,224)) #  color_channel (r,g,b), hei, wid\n",
    "random_img_size_tensor.shape, random_img_size_tensor.ndim # (torch.Size([224, 224, 3]), 3)"
   ]
  },
  {
   "cell_type": "markdown",
   "metadata": {},
   "source": [
    "### 0's and 1's"
   ]
  },
  {
   "cell_type": "code",
   "execution_count": 122,
   "metadata": {},
   "outputs": [
    {
     "data": {
      "text/plain": [
       "torch.float32"
      ]
     },
     "execution_count": 122,
     "metadata": {},
     "output_type": "execute_result"
    }
   ],
   "source": [
    "zero = torch.zeros(2,2)\n",
    "zero\n",
    "\n",
    "ones = torch.ones(2,2)\n",
    "ones.dtype # [default] torch.float32"
   ]
  },
  {
   "cell_type": "markdown",
   "metadata": {},
   "source": [
    "### Range of tensors and tensor-like\n",
    "    > use 'torch.arange' ('range': deprecated)"
   ]
  },
  {
   "cell_type": "code",
   "execution_count": null,
   "metadata": {},
   "outputs": [],
   "source": []
  },
  {
   "cell_type": "code",
   "execution_count": 123,
   "metadata": {},
   "outputs": [
    {
     "data": {
      "text/plain": [
       "tensor([0, 0, 0, 0, 0, 0])"
      ]
     },
     "execution_count": 123,
     "metadata": {},
     "output_type": "execute_result"
    }
   ],
   "source": [
    "# tensor\n",
    "zero_to_ten = torch.arange(0, 11, 2)\n",
    "zero_to_ten # tensor([ 0,  2,  4,  6,  8, 10])\n",
    "zero_to_ten.shape # torch.Size([6])\n",
    "\n",
    "# tensor-like\n",
    "six_zeros = torch.zeros_like(input=one_to_ten) # will have same shape\n",
    "six_zeros"
   ]
  },
  {
   "cell_type": "markdown",
   "metadata": {},
   "source": [
    "## Tensor dtypes"
   ]
  },
  {
   "cell_type": "code",
   "execution_count": 130,
   "metadata": {},
   "outputs": [
    {
     "data": {
      "text/plain": [
       "torch.float16"
      ]
     },
     "execution_count": 130,
     "metadata": {},
     "output_type": "execute_result"
    }
   ],
   "source": [
    "float_32_tensor = torch.tensor([3.0, 6.0, 9.0], dtype=None, device=\"cuda\", requires_grad=False)\n",
    "float_32_tensor.dtype # torch.float32\n",
    "\n",
    "# x32 - default (whole), x64 - more precision, x16 more speed, less precision, light\n",
    "\n",
    "float_16_tensor = float_32_tensor.type(torch.float16)\n",
    "float_16_tensor.dtype # torch.float16"
   ]
  }
 ],
 "metadata": {
  "kernelspec": {
   "display_name": "base",
   "language": "python",
   "name": "python3"
  },
  "language_info": {
   "codemirror_mode": {
    "name": "ipython",
    "version": 3
   },
   "file_extension": ".py",
   "mimetype": "text/x-python",
   "name": "python",
   "nbconvert_exporter": "python",
   "pygments_lexer": "ipython3",
   "version": "3.12.5"
  }
 },
 "nbformat": 4,
 "nbformat_minor": 2
}
