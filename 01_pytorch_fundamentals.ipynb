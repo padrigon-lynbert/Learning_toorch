{
 "cells": [
  {
   "cell_type": "markdown",
   "metadata": {
    "id": "AzDBM_v4iMe7"
   },
   "source": [
    "# PyTorch Fundamentals Exercises\n",
    "\n",
    "### 1. Documentation reading \n",
    "\n",
    "A big part of deep learning (and learning to code in general) is getting familiar with the documentation of a certain framework you're using. We'll be using the PyTorch documentation a lot throughout the rest of this course. So I'd recommend spending 10-minutes reading the following (it's okay if you don't get some things for now, the focus is not yet full understanding, it's awareness):\n",
    "  * The documentation on [`torch.Tensor`](https://pytorch.org/docs/stable/tensors.html#torch-tensor).\n",
    "  * The documentation on [`torch.cuda`](https://pytorch.org/docs/master/notes/cuda.html#cuda-semantics).\n",
    "\n"
   ]
  },
  {
   "cell_type": "code",
   "execution_count": 2,
   "metadata": {
    "id": "bGD0oD8Kizak"
   },
   "outputs": [],
   "source": [
    "import torch\n",
    "\n",
    "device = torch.device(\"cuda\" if torch.cuda.is_available() else 'cpu')"
   ]
  },
  {
   "cell_type": "markdown",
   "metadata": {
    "id": "__iXqqz-ioUJ"
   },
   "source": [
    "### 2. Create a random tensor with shape `(7, 7)`.\n"
   ]
  },
  {
   "cell_type": "code",
   "execution_count": null,
   "metadata": {
    "id": "6pUq9Dc8i2L7"
   },
   "outputs": [],
   "source": [
    "var = torch.rand(7,7)"
   ]
  },
  {
   "cell_type": "markdown",
   "metadata": {
    "id": "9-XxvRLfiqkR"
   },
   "source": [
    "### 3. Perform a matrix multiplication on the tensor from 2 with another random tensor with shape `(1, 7)` (hint: you may have to transpose the second tensor)."
   ]
  },
  {
   "cell_type": "code",
   "execution_count": 15,
   "metadata": {
    "id": "NcLqR0Sbi_vT"
   },
   "outputs": [
    {
     "data": {
      "text/plain": [
       "tensor([[0.7571],\n",
       "        [1.5783],\n",
       "        [0.7994],\n",
       "        [0.8766],\n",
       "        [1.4257],\n",
       "        [1.7675],\n",
       "        [1.4308]])"
      ]
     },
     "execution_count": 15,
     "metadata": {},
     "output_type": "execute_result"
    }
   ],
   "source": [
    "var2 = torch.rand(1,7)\n",
    "\n",
    "torch.matmul(var, var2.T)"
   ]
  },
  {
   "cell_type": "markdown",
   "metadata": {
    "id": "eiutdKUFiryU"
   },
   "source": [
    "### 4. Set the random seed to `0` and do 2 & 3 over again.\n",
    "\n",
    "The output should be:\n",
    "```\n",
    "(tensor([[1.8542],\n",
    "         [1.9611],\n",
    "         [2.2884],\n",
    "         [3.0481],\n",
    "         [1.7067],\n",
    "         [2.5290],\n",
    "         [1.7989]]), torch.Size([7, 1]))\n",
    "```"
   ]
  },
  {
   "cell_type": "code",
   "execution_count": 23,
   "metadata": {
    "id": "D-lOWI_1jRMm"
   },
   "outputs": [
    {
     "name": "stdout",
     "output_type": "stream",
     "text": [
      "tensor([[True, True]])\n"
     ]
    },
    {
     "data": {
      "text/plain": [
       "tensor([[1.6156]])"
      ]
     },
     "execution_count": 23,
     "metadata": {},
     "output_type": "execute_result"
    }
   ],
   "source": [
    "# Set manual \n",
    "# Create two random tensors\n",
    "\n",
    "torch.manual_seed(seed=42)\n",
    "var = torch.rand(1,2)\n",
    "\n",
    "torch.manual_seed(seed=42)\n",
    "var2 = torch.rand(1,2)\n",
    "\n",
    "print(var == var2)\n",
    "\n",
    "# Matrix multiply tensors\n",
    "torch.matmul(var,var2.T)"
   ]
  },
  {
   "cell_type": "markdown",
   "metadata": {
    "id": "ezY6ks9Cis37"
   },
   "source": [
    "### 5. Speaking of random seeds, we saw how to set it with `torch.manual_seed()` but is there a GPU equivalent? (hint: you'll need to look into the documentation for `torch.cuda` for this one)\n",
    "  * If there is, set the GPU random seed to `1234`."
   ]
  },
  {
   "cell_type": "code",
   "execution_count": 99,
   "metadata": {
    "id": "_LKWcfSTjp00"
   },
   "outputs": [
    {
     "data": {
      "text/plain": [
       "(tensor([[0.1272, 0.8167]], device='cuda:0'),\n",
       " tensor([[0.1272, 0.8167]], device='cuda:0'))"
      ]
     },
     "execution_count": 99,
     "metadata": {},
     "output_type": "execute_result"
    }
   ],
   "source": [
    "# Set random seed on the GPU\n",
    "torch.cuda.manual_seed(seed=1234)\n",
    "\n",
    "var = torch.rand(1,2, device=device)\n",
    "\n",
    "var, var"
   ]
  },
  {
   "cell_type": "markdown",
   "metadata": {
    "id": "Ir9qSaj6it4n"
   },
   "source": [
    "\n",
    "### 6. Create two random tensors of shape `(2, 3)` and send them both to the GPU (you'll need access to a GPU for this). Set `torch.manual_seed(1234)` when creating the tensors (this doesn't have to be the GPU random seed). The output should be something like:\n",
    "\n",
    "```\n",
    "Device: cuda\n",
    "(tensor([[0.0290, 0.4019, 0.2598],\n",
    "         [0.3666, 0.0583, 0.7006]], device='cuda:0'),\n",
    " tensor([[0.0518, 0.4681, 0.6738],\n",
    "         [0.3315, 0.7837, 0.5631]], device='cuda:0'))\n",
    "```"
   ]
  },
  {
   "cell_type": "code",
   "execution_count": null,
   "metadata": {
    "id": "azXExiFZj5nm"
   },
   "outputs": [
    {
     "data": {
      "text/plain": [
       "(tensor([[0.6130, 0.0101, 0.3984],\n",
       "         [0.0403, 0.1563, 0.4825]], device='cuda:0'),\n",
       " tensor([[0.9877, 0.1289, 0.5621],\n",
       "         [0.5221, 0.7445, 0.5955]], device='cuda:0'))"
      ]
     },
     "execution_count": 122,
     "metadata": {},
     "output_type": "execute_result"
    }
   ],
   "source": [
    "# Set random seed ^\n",
    "torch.cuda.manual_seed_all(seed=42)\n",
    "# Check for access to GPU\n",
    "torch.cuda.is_available()\n",
    "\n",
    "# Create two random tensors on GPU\n",
    "var = torch.rand(2,3, device=device)\n",
    "var2 = torch.rand(2,3, device=device)\n",
    "# torch.rand(2,2,3)\n",
    "\n",
    "var, var2"
   ]
  },
  {
   "cell_type": "markdown",
   "metadata": {
    "id": "5TlAxeiSiu1y"
   },
   "source": [
    "\n",
    "### 7. Perform a matrix multiplication on the tensors you created in 6 (again, you may have to adjust the shapes of one of the tensors).\n",
    "\n",
    "The output should look like:\n",
    "```\n",
    "(tensor([[0.3647, 0.4709],\n",
    "         [0.5184, 0.5617]], device='cuda:0'), torch.Size([2, 2]))\n",
    "```"
   ]
  },
  {
   "cell_type": "code",
   "execution_count": 141,
   "metadata": {
    "id": "fAeG7ox0lHEO"
   },
   "outputs": [
    {
     "name": "stdout",
     "output_type": "stream",
     "text": [
      "tensor([[0.8307, 0.5648],\n",
      "        [0.3312, 0.4247]], device='cuda:0'), torch.Size([2, 2])\n"
     ]
    }
   ],
   "source": [
    "# Perform matmul on tensor_A and tensor_B\n",
    "res = torch.matmul(var, var2.T)\n",
    "print(f\"{res}, {res.size()}\")"
   ]
  },
  {
   "cell_type": "markdown",
   "metadata": {
    "id": "G7qfa5CSivwg"
   },
   "source": [
    "### 8. Find the maximum and minimum values of the output of 7."
   ]
  },
  {
   "cell_type": "code",
   "execution_count": null,
   "metadata": {
    "id": "Fu8_3mZpllOd"
   },
   "outputs": [
    {
     "data": {
      "text/plain": [
       "tensor(0.3312, device='cuda:0')"
      ]
     },
     "execution_count": 143,
     "metadata": {},
     "output_type": "execute_result"
    }
   ],
   "source": [
    "# Find max\n",
    "res.max()\n",
    "\n",
    "# Find min\n",
    "res.min()"
   ]
  },
  {
   "cell_type": "markdown",
   "metadata": {
    "id": "wrTj5FgNiw47"
   },
   "source": [
    "### 9. Find the maximum and minimum index values of the output of 7."
   ]
  },
  {
   "cell_type": "code",
   "execution_count": 150,
   "metadata": {
    "id": "CCEKt4K2lsfQ"
   },
   "outputs": [
    {
     "data": {
      "text/plain": [
       "tensor(2, device='cuda:0')"
      ]
     },
     "execution_count": 150,
     "metadata": {},
     "output_type": "execute_result"
    }
   ],
   "source": [
    "# Find arg max\n",
    "res.argmax()\n",
    "\n",
    "# Find arg min\n",
    "res.argmin()"
   ]
  },
  {
   "cell_type": "markdown",
   "metadata": {
    "id": "hmeybz4uixy7"
   },
   "source": [
    "\n",
    "### 10. Make a random tensor with shape `(1, 1, 1, 10)` and then create a new tensor with all the `1` dimensions removed to be left with a tensor of shape `(10)`. Set the seed to `7` when you create it and print out the first tensor and it's shape as well as the second tensor and it's shape.\n",
    "\n",
    "The output should look like:\n",
    "\n",
    "```\n",
    "tensor([[[[0.5349, 0.1988, 0.6592, 0.6569, 0.2328, 0.4251, 0.2071, 0.6297,\n",
    "           0.3653, 0.8513]]]]) torch.Size([1, 1, 1, 10])\n",
    "tensor([0.5349, 0.1988, 0.6592, 0.6569, 0.2328, 0.4251, 0.2071, 0.6297, 0.3653,\n",
    "        0.8513]) torch.Size([10])\n",
    "```"
   ]
  },
  {
   "cell_type": "code",
   "execution_count": 165,
   "metadata": {
    "id": "TQ9zbRzVl1jV"
   },
   "outputs": [
    {
     "name": "stdout",
     "output_type": "stream",
     "text": [
      "tensor([[[[0.6130, 0.0101, 0.3984, 0.0403, 0.1563, 0.4825, 0.7362, 0.4060,\n",
      "           0.5189, 0.2867]]]], device='cuda:0') torch.Size([1, 1, 1, 10])\n",
      "tensor([0.6130, 0.0101, 0.3984, 0.0403, 0.1563, 0.4825, 0.7362, 0.4060, 0.5189,\n",
      "        0.2867], device='cuda:0') torch.Size([10])\n"
     ]
    }
   ],
   "source": [
    "# Set seed\n",
    "torch.cuda.manual_seed(seed=42)\n",
    "\n",
    "# Create random tensor\n",
    "var = torch.rand(1,1,1,10, device=device)\n",
    "\n",
    "# Remove single dimensions\n",
    "var2 = var.squeeze()\n",
    "\n",
    "# Print out tensors and their shapes\n",
    "print(f\"{var} {var.size()}\")\n",
    "print(f\"{var2} {var2.size()}\")\n"
   ]
  }
 ],
 "metadata": {
  "accelerator": "GPU",
  "colab": {
   "collapsed_sections": [],
   "name": "00_pytorch_fundamentals_exercises.ipynb",
   "provenance": []
  },
  "kernelspec": {
   "display_name": "data_science",
   "language": "python",
   "name": "python3"
  },
  "language_info": {
   "codemirror_mode": {
    "name": "ipython",
    "version": 3
   },
   "file_extension": ".py",
   "mimetype": "text/x-python",
   "name": "python",
   "nbconvert_exporter": "python",
   "pygments_lexer": "ipython3",
   "version": "3.12.5"
  }
 },
 "nbformat": 4,
 "nbformat_minor": 0
}
